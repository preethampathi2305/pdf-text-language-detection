{
  "nbformat": 4,
  "nbformat_minor": 0,
  "metadata": {
    "colab": {
      "name": "Incribo Task.ipynb",
      "provenance": []
    },
    "kernelspec": {
      "name": "python3",
      "display_name": "Python 3"
    },
    "language_info": {
      "name": "python"
    }
  },
  "cells": [
    {
      "cell_type": "code",
      "metadata": {
        "colab": {
          "base_uri": "https://localhost:8080/"
        },
        "id": "ja3CeT1GVDYU",
        "outputId": "4977910b-d6ae-4341-dcb9-9a3c84f0a52f"
      },
      "source": [
        "!pip install fasttext"
      ],
      "execution_count": 3,
      "outputs": [
        {
          "output_type": "stream",
          "text": [
            "Collecting fasttext\n",
            "\u001b[?25l  Downloading https://files.pythonhosted.org/packages/f8/85/e2b368ab6d3528827b147fdb814f8189acc981a4bc2f99ab894650e05c40/fasttext-0.9.2.tar.gz (68kB)\n",
            "\r\u001b[K     |████▊                           | 10kB 16.2MB/s eta 0:00:01\r\u001b[K     |█████████▌                      | 20kB 15.7MB/s eta 0:00:01\r\u001b[K     |██████████████▎                 | 30kB 12.8MB/s eta 0:00:01\r\u001b[K     |███████████████████             | 40kB 14.1MB/s eta 0:00:01\r\u001b[K     |███████████████████████▉        | 51kB 7.5MB/s eta 0:00:01\r\u001b[K     |████████████████████████████▋   | 61kB 8.2MB/s eta 0:00:01\r\u001b[K     |████████████████████████████████| 71kB 4.9MB/s \n",
            "\u001b[?25hRequirement already satisfied: pybind11>=2.2 in /usr/local/lib/python3.7/dist-packages (from fasttext) (2.6.2)\n",
            "Requirement already satisfied: setuptools>=0.7.0 in /usr/local/lib/python3.7/dist-packages (from fasttext) (56.0.0)\n",
            "Requirement already satisfied: numpy in /usr/local/lib/python3.7/dist-packages (from fasttext) (1.19.5)\n",
            "Building wheels for collected packages: fasttext\n",
            "  Building wheel for fasttext (setup.py) ... \u001b[?25l\u001b[?25hdone\n",
            "  Created wheel for fasttext: filename=fasttext-0.9.2-cp37-cp37m-linux_x86_64.whl size=3094871 sha256=c232dc190d415d713ae11395f33442142164284160025537ed292ee0559250c9\n",
            "  Stored in directory: /root/.cache/pip/wheels/98/ba/7f/b154944a1cf5a8cee91c154b75231136cc3a3321ab0e30f592\n",
            "Successfully built fasttext\n",
            "Installing collected packages: fasttext\n",
            "Successfully installed fasttext-0.9.2\n"
          ],
          "name": "stdout"
        }
      ]
    },
    {
      "cell_type": "code",
      "metadata": {
        "colab": {
          "base_uri": "https://localhost:8080/"
        },
        "id": "Sqv77gAuVIJF",
        "outputId": "752794f8-604b-4e20-b2fb-47bdcc713188"
      },
      "source": [
        "!wget -O /tmp/lid.176.bin https://dl.fbaipublicfiles.com/fasttext/supervised-models/lid.176.bin\n"
      ],
      "execution_count": 5,
      "outputs": [
        {
          "output_type": "stream",
          "text": [
            "--2021-04-23 06:10:25--  https://dl.fbaipublicfiles.com/fasttext/supervised-models/lid.176.bin\n",
            "Resolving dl.fbaipublicfiles.com (dl.fbaipublicfiles.com)... 172.67.9.4, 104.22.74.142, 104.22.75.142, ...\n",
            "Connecting to dl.fbaipublicfiles.com (dl.fbaipublicfiles.com)|172.67.9.4|:443... connected.\n",
            "HTTP request sent, awaiting response... 200 OK\n",
            "Length: 131266198 (125M) [application/octet-stream]\n",
            "Saving to: ‘/tmp/lid.176.bin’\n",
            "\n",
            "/tmp/lid.176.bin    100%[===================>] 125.18M  36.7MB/s    in 3.4s    \n",
            "\n",
            "2021-04-23 06:10:29 (36.7 MB/s) - ‘/tmp/lid.176.bin’ saved [131266198/131266198]\n",
            "\n"
          ],
          "name": "stdout"
        }
      ]
    },
    {
      "cell_type": "code",
      "metadata": {
        "colab": {
          "base_uri": "https://localhost:8080/"
        },
        "id": "Jo93ykR8Wa0c",
        "outputId": "b872661b-b814-47f9-8da6-03586bb8bda3"
      },
      "source": [
        "import fasttext\n",
        "\n",
        "PRETRAINED_MODEL_PATH = '/tmp/lid.176.bin'\n",
        "model = fasttext.load_model(PRETRAINED_MODEL_PATH)"
      ],
      "execution_count": 6,
      "outputs": [
        {
          "output_type": "stream",
          "text": [
            "Warning : `load_model` does not return WordVectorModel or SupervisedModel any more, but a `FastText` object which is very similar.\n"
          ],
          "name": "stderr"
        }
      ]
    },
    {
      "cell_type": "code",
      "metadata": {
        "colab": {
          "base_uri": "https://localhost:8080/"
        },
        "id": "F32im1NNWrOB",
        "outputId": "28a11d41-c017-48a8-f26b-935f4d3ff389"
      },
      "source": [
        "sentences = ['ప్రతిపత్తిస్వత్వముల విషయమున','विकिपीडिया:इण्टरनेट पर हिन्दी के साधन','உறுப்புரை 1 மனிதப் பிறிவியினர்']\n",
        "predictions = model.predict(sentences)\n",
        "print(predictions)"
      ],
      "execution_count": 17,
      "outputs": [
        {
          "output_type": "stream",
          "text": [
            "([['__label__te'], ['__label__hi'], ['__label__ta']], [array([1.0000396], dtype=float32), array([0.93898857], dtype=float32), array([1.0000765], dtype=float32)])\n"
          ],
          "name": "stdout"
        }
      ]
    },
    {
      "cell_type": "code",
      "metadata": {
        "colab": {
          "base_uri": "https://localhost:8080/"
        },
        "id": "hGCQRyNBX57R",
        "outputId": "32e08e49-ee9a-4436-d96b-bfab73dc6cd9"
      },
      "source": [
        "!pip  install PyPDF2"
      ],
      "execution_count": 11,
      "outputs": [
        {
          "output_type": "stream",
          "text": [
            "Collecting PyPDF2\n",
            "\u001b[?25l  Downloading https://files.pythonhosted.org/packages/b4/01/68fcc0d43daf4c6bdbc6b33cc3f77bda531c86b174cac56ef0ffdb96faab/PyPDF2-1.26.0.tar.gz (77kB)\n",
            "\r\u001b[K     |████▎                           | 10kB 15.5MB/s eta 0:00:01\r\u001b[K     |████████▌                       | 20kB 21.2MB/s eta 0:00:01\r\u001b[K     |████████████▊                   | 30kB 12.1MB/s eta 0:00:01\r\u001b[K     |█████████████████               | 40kB 9.5MB/s eta 0:00:01\r\u001b[K     |█████████████████████▏          | 51kB 8.2MB/s eta 0:00:01\r\u001b[K     |█████████████████████████▍      | 61kB 7.9MB/s eta 0:00:01\r\u001b[K     |█████████████████████████████▋  | 71kB 8.2MB/s eta 0:00:01\r\u001b[K     |████████████████████████████████| 81kB 5.0MB/s \n",
            "\u001b[?25hBuilding wheels for collected packages: PyPDF2\n",
            "  Building wheel for PyPDF2 (setup.py) ... \u001b[?25l\u001b[?25hdone\n",
            "  Created wheel for PyPDF2: filename=PyPDF2-1.26.0-cp37-none-any.whl size=61085 sha256=ba5256d007dc74136f9dacaa85c69b16747adc018d0dbc31ed70b1cc378c74b4\n",
            "  Stored in directory: /root/.cache/pip/wheels/53/84/19/35bc977c8bf5f0c23a8a011aa958acd4da4bbd7a229315c1b7\n",
            "Successfully built PyPDF2\n",
            "Installing collected packages: PyPDF2\n",
            "Successfully installed PyPDF2-1.26.0\n"
          ],
          "name": "stdout"
        }
      ]
    },
    {
      "cell_type": "code",
      "metadata": {
        "id": "qz_whIhzWvsR"
      },
      "source": [
        "#as the pdf was said to be only 1 page, i'm considering the first line as header and the rest as the paragraph\n",
        "import PyPDF2\n",
        "# importing required modules\n",
        "  \n",
        "# creating a pdf file object\n",
        "pdfFileObj = open('/telugu test.pdf', 'rb')\n",
        "  \n",
        "# creating a pdf reader object\n",
        "pdfReader = PyPDF2.PdfFileReader(pdfFileObj)\n",
        "\n",
        "# creating a page object\n",
        "pageObj = pdfReader.getPage(0)\n",
        "  \n",
        "# extracting text from page\n",
        "print((pageObj.extractText()))\n",
        "  \n",
        "# closing the pdf file object\n",
        "pdfFileObj.close()"
      ],
      "execution_count": null,
      "outputs": []
    },
    {
      "cell_type": "code",
      "metadata": {
        "colab": {
          "base_uri": "https://localhost:8080/"
        },
        "id": "YNuMP_fjYaq_",
        "outputId": "ea52ea91-fd39-4400-bc8e-9f4fb289396b"
      },
      "source": [
        "!pip install fitz\n",
        "!pip install PyMuPDF"
      ],
      "execution_count": 18,
      "outputs": [
        {
          "output_type": "stream",
          "text": [
            "Collecting fitz\n",
            "  Downloading https://files.pythonhosted.org/packages/7e/28/27f27d66eb82f24e6595deb26c0a875e62431878c416e38eac515023abb2/fitz-0.0.1.dev2-py2.py3-none-any.whl\n",
            "Collecting configobj\n",
            "  Downloading https://files.pythonhosted.org/packages/64/61/079eb60459c44929e684fa7d9e2fdca403f67d64dd9dbac27296be2e0fab/configobj-5.0.6.tar.gz\n",
            "Requirement already satisfied: scipy in /usr/local/lib/python3.7/dist-packages (from fitz) (1.4.1)\n",
            "Collecting configparser\n",
            "  Downloading https://files.pythonhosted.org/packages/fd/01/ff260a18caaf4457eb028c96eeb405c4a230ca06c8ec9c1379f813caa52e/configparser-5.0.2-py3-none-any.whl\n",
            "Requirement already satisfied: nibabel in /usr/local/lib/python3.7/dist-packages (from fitz) (3.0.2)\n",
            "Requirement already satisfied: numpy in /usr/local/lib/python3.7/dist-packages (from fitz) (1.19.5)\n",
            "Collecting pyxnat\n",
            "\u001b[?25l  Downloading https://files.pythonhosted.org/packages/ac/c1/8d55035ff44783ec840bab127419365b5b8a2253fb77c4e8db1ea7fe43c0/pyxnat-1.4.tar.gz (78kB)\n",
            "\u001b[K     |████████████████████████████████| 81kB 6.3MB/s \n",
            "\u001b[?25hCollecting nipype\n",
            "\u001b[?25l  Downloading https://files.pythonhosted.org/packages/1f/0e/348956e47dfa73e359c55f9249d61fdd0526ab24d761a0b94299b1a9f88b/nipype-1.6.0-py3-none-any.whl (3.1MB)\n",
            "\u001b[K     |████████████████████████████████| 3.2MB 22.1MB/s \n",
            "\u001b[?25hRequirement already satisfied: httplib2 in /usr/local/lib/python3.7/dist-packages (from fitz) (0.17.4)\n",
            "Requirement already satisfied: pandas in /usr/local/lib/python3.7/dist-packages (from fitz) (1.1.5)\n",
            "Requirement already satisfied: six in /usr/local/lib/python3.7/dist-packages (from configobj->fitz) (1.15.0)\n",
            "Collecting lxml>=4.3\n",
            "\u001b[?25l  Downloading https://files.pythonhosted.org/packages/cf/4d/6537313bf58fe22b508f08cf3eb86b29b6f9edf68e00454224539421073b/lxml-4.6.3-cp37-cp37m-manylinux1_x86_64.whl (5.5MB)\n",
            "\u001b[K     |████████████████████████████████| 5.5MB 36.8MB/s \n",
            "\u001b[?25hRequirement already satisfied: requests>=2.20 in /usr/local/lib/python3.7/dist-packages (from pyxnat->fitz) (2.23.0)\n",
            "Requirement already satisfied: pathlib>=1.0 in /usr/local/lib/python3.7/dist-packages (from pyxnat->fitz) (1.0.1)\n",
            "Requirement already satisfied: future>=0.16 in /usr/local/lib/python3.7/dist-packages (from pyxnat->fitz) (0.16.0)\n",
            "Requirement already satisfied: pydot>=1.2.3 in /usr/local/lib/python3.7/dist-packages (from nipype->fitz) (1.3.0)\n",
            "Collecting simplejson>=3.8.0\n",
            "\u001b[?25l  Downloading https://files.pythonhosted.org/packages/a8/04/377418ac1e530ce2a196b54c6552c018fdf1fe776718053efb1f216bffcd/simplejson-3.17.2-cp37-cp37m-manylinux2010_x86_64.whl (128kB)\n",
            "\u001b[K     |████████████████████████████████| 133kB 59.1MB/s \n",
            "\u001b[?25hCollecting etelemetry>=0.2.0\n",
            "  Downloading https://files.pythonhosted.org/packages/13/f9/e8e8cd04bdc44dfba28a3b2cc4d0b1efe8cbf3afc1bf12b11f1c9d697f1e/etelemetry-0.2.2-py3-none-any.whl\n",
            "Requirement already satisfied: click>=6.6.0 in /usr/local/lib/python3.7/dist-packages (from nipype->fitz) (7.1.2)\n",
            "Requirement already satisfied: networkx>=2.0 in /usr/local/lib/python3.7/dist-packages (from nipype->fitz) (2.5.1)\n",
            "Collecting rdflib>=5.0.0\n",
            "\u001b[?25l  Downloading https://files.pythonhosted.org/packages/d0/6b/6454aa1db753c0f8bc265a5bd5c10b5721a4bb24160fb4faf758cf6be8a1/rdflib-5.0.0-py3-none-any.whl (231kB)\n",
            "\u001b[K     |████████████████████████████████| 235kB 52.1MB/s \n",
            "\u001b[?25hCollecting traits!=5.0,>=4.6\n",
            "\u001b[?25l  Downloading https://files.pythonhosted.org/packages/c5/40/225cc2bba4c0466fdb5d9d67aac164bbe6320428eb11a71084be4338aceb/traits-6.2.0-cp37-cp37m-manylinux2010_x86_64.whl (5.1MB)\n",
            "\u001b[K     |████████████████████████████████| 5.1MB 42.9MB/s \n",
            "\u001b[?25hRequirement already satisfied: packaging in /usr/local/lib/python3.7/dist-packages (from nipype->fitz) (20.9)\n",
            "Collecting prov>=1.5.2\n",
            "\u001b[?25l  Downloading https://files.pythonhosted.org/packages/cf/8d/9a5110845c6b117d203e3ca9eec5ee79bed29cef508c8415fbc85e900150/prov-2.0.0-py3-none-any.whl (421kB)\n",
            "\u001b[K     |████████████████████████████████| 430kB 46.5MB/s \n",
            "\u001b[?25hRequirement already satisfied: python-dateutil>=2.2 in /usr/local/lib/python3.7/dist-packages (from nipype->fitz) (2.8.1)\n",
            "Requirement already satisfied: filelock>=3.0.0 in /usr/local/lib/python3.7/dist-packages (from nipype->fitz) (3.0.12)\n",
            "Requirement already satisfied: pytz>=2017.2 in /usr/local/lib/python3.7/dist-packages (from pandas->fitz) (2018.9)\n",
            "Requirement already satisfied: urllib3!=1.25.0,!=1.25.1,<1.26,>=1.21.1 in /usr/local/lib/python3.7/dist-packages (from requests>=2.20->pyxnat->fitz) (1.24.3)\n",
            "Requirement already satisfied: idna<3,>=2.5 in /usr/local/lib/python3.7/dist-packages (from requests>=2.20->pyxnat->fitz) (2.10)\n",
            "Requirement already satisfied: chardet<4,>=3.0.2 in /usr/local/lib/python3.7/dist-packages (from requests>=2.20->pyxnat->fitz) (3.0.4)\n",
            "Requirement already satisfied: certifi>=2017.4.17 in /usr/local/lib/python3.7/dist-packages (from requests>=2.20->pyxnat->fitz) (2020.12.5)\n",
            "Requirement already satisfied: pyparsing>=2.1.4 in /usr/local/lib/python3.7/dist-packages (from pydot>=1.2.3->nipype->fitz) (2.4.7)\n",
            "Collecting ci-info>=0.2\n",
            "  Downloading https://files.pythonhosted.org/packages/cf/01/664a10490000d7154fa71358af87681696b8116a12d869a267063c470fbc/ci_info-0.2.0-py3-none-any.whl\n",
            "Requirement already satisfied: decorator<5,>=4.3 in /usr/local/lib/python3.7/dist-packages (from networkx>=2.0->nipype->fitz) (4.4.2)\n",
            "Collecting isodate\n",
            "\u001b[?25l  Downloading https://files.pythonhosted.org/packages/9b/9f/b36f7774ff5ea8e428fdcfc4bb332c39ee5b9362ddd3d40d9516a55221b2/isodate-0.6.0-py2.py3-none-any.whl (45kB)\n",
            "\u001b[K     |████████████████████████████████| 51kB 7.0MB/s \n",
            "\u001b[?25hBuilding wheels for collected packages: configobj, pyxnat\n",
            "  Building wheel for configobj (setup.py) ... \u001b[?25l\u001b[?25hdone\n",
            "  Created wheel for configobj: filename=configobj-5.0.6-cp37-none-any.whl size=34547 sha256=c92c18ef87f5dae476dd4d808b26c3b90b724cf9f254a76be068221f20ae2d4c\n",
            "  Stored in directory: /root/.cache/pip/wheels/f1/e4/16/4981ca97c2d65106b49861e0b35e2660695be7219a2d351ee0\n",
            "  Building wheel for pyxnat (setup.py) ... \u001b[?25l\u001b[?25hdone\n",
            "  Created wheel for pyxnat: filename=pyxnat-1.4-cp37-none-any.whl size=92688 sha256=176ad2aac9229f1991b96c3e0e3c2611b98cc4163586ba58049c42b7192a750a\n",
            "  Stored in directory: /root/.cache/pip/wheels/db/64/83/16e08dbf817bc92dfb70dd9b0d5df4e3d7ff2867af68fd08af\n",
            "Successfully built configobj pyxnat\n",
            "Installing collected packages: configobj, configparser, lxml, pyxnat, simplejson, ci-info, etelemetry, isodate, rdflib, traits, prov, nipype, fitz\n",
            "  Found existing installation: lxml 4.2.6\n",
            "    Uninstalling lxml-4.2.6:\n",
            "      Successfully uninstalled lxml-4.2.6\n",
            "Successfully installed ci-info-0.2.0 configobj-5.0.6 configparser-5.0.2 etelemetry-0.2.2 fitz-0.0.1.dev2 isodate-0.6.0 lxml-4.6.3 nipype-1.6.0 prov-2.0.0 pyxnat-1.4 rdflib-5.0.0 simplejson-3.17.2 traits-6.2.0\n",
            "Collecting PyMuPDF\n",
            "\u001b[?25l  Downloading https://files.pythonhosted.org/packages/3a/f4/3dfa60b77d8b2060c524958780fd085ef2ae91bfc2ba9a493df7d0abaf84/PyMuPDF-1.18.12-cp37-cp37m-manylinux2010_x86_64.whl (6.4MB)\n",
            "\u001b[K     |████████████████████████████████| 6.4MB 5.7MB/s \n",
            "\u001b[?25hInstalling collected packages: PyMuPDF\n",
            "Successfully installed PyMuPDF-1.18.12\n"
          ],
          "name": "stdout"
        }
      ]
    },
    {
      "cell_type": "code",
      "metadata": {
        "colab": {
          "base_uri": "https://localhost:8080/"
        },
        "id": "Y0AwDijhZ1K3",
        "outputId": "9f5c1693-53d8-4cd9-ce55-2f6714aa52f8"
      },
      "source": [
        "import fitz\n",
        "doc=fitz.open('/telugu test.pdf')\n",
        "for page in doc:\n",
        "    text = page.get_text('text')\n",
        "print(text)"
      ],
      "execution_count": 19,
      "outputs": [
        {
          "output_type": "stream",
          "text": [
            "ప్రతిరతిిస్వ త్వ ముల విషయమున \n",
            "మానవులెలలరును జనమ త్ః స్వ త్ంప్ులును \n",
            "స్మానులును నగుదురు. వారు వివేచన-\n",
            "అంత్ఃకరణ స్ంరనుు లగుటచే రరస్ప రము \n",
            "ప్ాత్ృావముతో వర్ింరవలయును. \n",
            "\n"
          ],
          "name": "stdout"
        }
      ]
    },
    {
      "cell_type": "code",
      "metadata": {
        "id": "pED5RoMTaddQ"
      },
      "source": [
        "header=\"\"\n",
        "for i in text:\n",
        "    if i=='\\n':\n",
        "        break\n",
        "    header+=i"
      ],
      "execution_count": 20,
      "outputs": []
    },
    {
      "cell_type": "code",
      "metadata": {
        "colab": {
          "base_uri": "https://localhost:8080/"
        },
        "id": "Vf8pb-tma8TC",
        "outputId": "fe8942b6-83dd-46e9-f793-c359f6c36e6b"
      },
      "source": [
        "print(header)"
      ],
      "execution_count": 21,
      "outputs": [
        {
          "output_type": "stream",
          "text": [
            "ప్రతిరతిిస్వ త్వ ముల విషయమున \n"
          ],
          "name": "stdout"
        }
      ]
    },
    {
      "cell_type": "code",
      "metadata": {
        "colab": {
          "base_uri": "https://localhost:8080/"
        },
        "id": "rJ_3Mg91a9Tk",
        "outputId": "3e0ba75f-5867-40e6-edda-eda2c9a63c68"
      },
      "source": [
        "model.predict(header)"
      ],
      "execution_count": 22,
      "outputs": [
        {
          "output_type": "execute_result",
          "data": {
            "text/plain": [
              "(('__label__te',), array([1.0000571]))"
            ]
          },
          "metadata": {
            "tags": []
          },
          "execution_count": 22
        }
      ]
    },
    {
      "cell_type": "code",
      "metadata": {
        "id": "jVx_rLkAbdsc"
      },
      "source": [
        ""
      ],
      "execution_count": null,
      "outputs": []
    }
  ]
}